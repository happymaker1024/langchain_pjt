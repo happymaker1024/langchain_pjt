{
 "cells": [
  {
   "cell_type": "markdown",
   "metadata": {},
   "source": [
    "- 1. llm 통신하는 기본 프롬프트 작성하고, 기본틀 만들기 "
   ]
  },
  {
   "cell_type": "markdown",
   "metadata": {},
   "source": [
    "- openai key 로딩\n",
    "- ChatOpenAI() 생성"
   ]
  },
  {
   "cell_type": "code",
   "execution_count": 4,
   "metadata": {},
   "outputs": [],
   "source": [
    "from dotenv import load_dotenv\n",
    "import os\n",
    "from langchain_openai import ChatOpenAI\n",
    "\n",
    "load_dotenv()\n",
    "\n",
    "api_key = os.getenv('OPENAI_API_KEY')\n",
    "# print(api_key)"
   ]
  },
  {
   "cell_type": "markdown",
   "metadata": {},
   "source": [
    "## 모델 객체 생성"
   ]
  },
  {
   "cell_type": "code",
   "execution_count": 5,
   "metadata": {},
   "outputs": [],
   "source": [
    "# gpt model 객체 생성\n",
    "# llm = ChatOpenAI(model=\"gpt-4o\", api_key=api_key)\n",
    "llm = ChatOpenAI(model=\"gpt-3.5-turbo-0125\", api_key=api_key)"
   ]
  },
  {
   "cell_type": "code",
   "execution_count": 6,
   "metadata": {},
   "outputs": [],
   "source": [
    "from langchain_core.prompts import ChatPromptTemplate\n",
    "from langchain_core.output_parsers import StrOutputParser"
   ]
  },
  {
   "cell_type": "markdown",
   "metadata": {},
   "source": [
    "- https://github.com/f/awesome-chatgpt-prompts\n",
    "- 검색 : financial\n",
    "<pre>\n",
    "Want assistance provided by qualified individuals enabled with experience on understanding charts using technical analysis tools while interpreting macroeconomic environment prevailing across world consequently assisting customers acquire long term advantages requires clear verdicts therefore seeking same through informed predictions written down precisely! First statement contains following content- “Can you tell us what future stock market looks like based upon current conditions ?\".\n",
    "</pre>"
   ]
  },
  {
   "cell_type": "code",
   "execution_count": 10,
   "metadata": {},
   "outputs": [],
   "source": [
    "system_prompt = \"\"\"\n",
    "Want assistance provided by qualified individuals enabled with experience on understanding charts using technical analysis tools while interpreting macroeconomic environment prevailing across world consequently assisting customers acquire long term advantages requires clear verdicts therefore seeking same through informed predictions written down precisely! First statement contains following content- “Can you tell us what future stock market looks like based upon current conditions ?\".\n",
    "\"\"\"\n",
    "user_prompt = \"{company}에 주식을 투자해도 될까요? 마크다운 형식의 투자보고서를 한글로 작성해 주세요.\""
   ]
  },
  {
   "cell_type": "code",
   "execution_count": 11,
   "metadata": {},
   "outputs": [
    {
     "data": {
      "text/plain": [
       "ChatPromptTemplate(input_variables=['company'], input_types={}, partial_variables={}, messages=[SystemMessagePromptTemplate(prompt=PromptTemplate(input_variables=[], input_types={}, partial_variables={}, template='\\nWant assistance provided by qualified individuals enabled with experience on understanding charts using technical analysis tools while interpreting macroeconomic environment prevailing across world consequently assisting customers acquire long term advantages requires clear verdicts therefore seeking same through informed predictions written down precisely! First statement contains following content- “Can you tell us what future stock market looks like based upon current conditions ?\".\\n'), additional_kwargs={}), HumanMessagePromptTemplate(prompt=PromptTemplate(input_variables=['company'], input_types={}, partial_variables={}, template='{company}에 주식을 투자해도 될까요? 마크다운 형식의 투자보고서를 한글로 작성해 주세요.'), additional_kwargs={})])"
      ]
     },
     "execution_count": 11,
     "metadata": {},
     "output_type": "execute_result"
    }
   ],
   "source": [
    "prompt = ChatPromptTemplate.from_messages([\n",
    "    (\"system\", system_prompt),\n",
    "    (\"user\", user_prompt)\n",
    "])\n",
    "prompt"
   ]
  },
  {
   "cell_type": "code",
   "execution_count": 12,
   "metadata": {},
   "outputs": [
    {
     "data": {
      "text/plain": [
       "StrOutputParser()"
      ]
     },
     "execution_count": 12,
     "metadata": {},
     "output_type": "execute_result"
    }
   ],
   "source": [
    "output_parser = StrOutputParser()\n",
    "output_parser"
   ]
  },
  {
   "cell_type": "code",
   "execution_count": 14,
   "metadata": {},
   "outputs": [],
   "source": [
    "# chain 구성 : LCEL(LangChain Expression Language)\n",
    "chain = prompt | llm | output_parser\n",
    "\n",
    "# 회사 이름\n",
    "company = \"MicroSoft\"\n",
    "response = chain.invoke({\"company\":company})"
   ]
  },
  {
   "cell_type": "code",
   "execution_count": 16,
   "metadata": {},
   "outputs": [
    {
     "name": "stdout",
     "output_type": "stream",
     "text": [
      "## Microsoft 주식에 대한 투자 분석 보고서\n",
      "\n",
      "### 기업 개요\n",
      "Microsoft는 소프트웨어 및 기술 서비스 분야에서 세계적으로 선도적인 기업으로, Windows 운영 체제, Office 소프트웨어 및 Azure 클라우드 서비스로 유명합니다. 회사는 지속적인 혁신과 안정적인 재무 성과로 투자자들의 신뢰를 얻고 있습니다.\n",
      "\n",
      "### 기본 분석\n",
      "Microsoft는 최근 기술 산업의 성장과 클라우드 컴퓨팅의 증가에 따라 안정적인 성장을 보여주고 있습니다. 회사의 수익과 이익은 꾸준히 상승하고 있으며, 글로벌 시장에서의 경쟁력도 높은 편입니다. 또한 Microsoft의 재무 건강 상태 역시 매우 견고하며, 투자자들에게 안정적인 수익을 제공할 것으로 전망됩니다.\n",
      "\n",
      "### 기술적 분석\n",
      "기술적 분석 결과, Microsoft 주식은 현재 상승 추세를 보이고 있습니다. 주가는 이동평균선을 상향돌파하며 상승세를 유지하고 있습니다. 또한 MACD와 RSI 지표 역시 매우 긍정적인 신호를 보여주고 있어, 추가 상승이 예상됩니다.\n",
      "\n",
      "### 투자 결론\n",
      "Microsoft는 안정적인 기업 이미지와 성장 가능성, 그리고 기술적 분석 결과를 고려할 때, 투자가치가 높은 기업으로 평가됩니다. 따라서 Microsoft 주식에 대한 투자는 장기적인 관점에서 안정적인 수익을 기대할 수 있는 좋은 기회일 것으로 판단됩니다.\n",
      "\n",
      "※ 투자는 자본 손실의 위험이 있으므로, 개별 투자자의 투자 목표와 위험 감수 수준을 고려한 후 결정하는 것이 중요합니다.\n",
      "\n",
      "이 보고서는 단순 정보 제공을 목적으로 하며, 투자 결정에 대한 최종 책임은 투자자 본인에게 있음을 알려드립니다.\n"
     ]
    }
   ],
   "source": [
    "print(response)"
   ]
  },
  {
   "cell_type": "code",
   "execution_count": null,
   "metadata": {},
   "outputs": [],
   "source": []
  }
 ],
 "metadata": {
  "kernelspec": {
   "display_name": "langchain_rag_env",
   "language": "python",
   "name": "python3"
  },
  "language_info": {
   "codemirror_mode": {
    "name": "ipython",
    "version": 3
   },
   "file_extension": ".py",
   "mimetype": "text/x-python",
   "name": "python",
   "nbconvert_exporter": "python",
   "pygments_lexer": "ipython3",
   "version": "3.12.7"
  }
 },
 "nbformat": 4,
 "nbformat_minor": 2
}
