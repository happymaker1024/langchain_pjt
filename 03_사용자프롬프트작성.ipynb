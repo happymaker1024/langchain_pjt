{
 "cells": [
  {
   "cell_type": "markdown",
   "metadata": {},
   "source": [
    "## llm 통신하는 사용자 프롬프트 작성"
   ]
  },
  {
   "cell_type": "markdown",
   "metadata": {},
   "source": [
    "- openai key 로딩\n",
    "- ChatOpenAI() 생성"
   ]
  },
  {
   "cell_type": "code",
   "execution_count": 1,
   "metadata": {},
   "outputs": [],
   "source": [
    "from dotenv import load_dotenv\n",
    "import os\n",
    "from langchain_openai import ChatOpenAI\n",
    "\n",
    "load_dotenv()\n",
    "\n",
    "api_key = os.getenv('OPENAI_API_KEY')\n",
    "# print(api_key)"
   ]
  },
  {
   "cell_type": "markdown",
   "metadata": {},
   "source": [
    "## 모델 객체 생성"
   ]
  },
  {
   "cell_type": "code",
   "execution_count": 4,
   "metadata": {},
   "outputs": [],
   "source": [
    "# gpt model 객체 생성\n",
    "# llm = ChatOpenAI(model=\"gpt-4o\", api_key=api_key, temperature=0)\n",
    "llm = ChatOpenAI(model=\"gpt-3.5-turbo-0125\", api_key=api_key, temperature=0)"
   ]
  },
  {
   "cell_type": "code",
   "execution_count": 5,
   "metadata": {},
   "outputs": [],
   "source": [
    "from langchain_core.prompts import ChatPromptTemplate\n",
    "from langchain_core.output_parsers import StrOutputParser"
   ]
  },
  {
   "cell_type": "markdown",
   "metadata": {},
   "source": [
    "- https://github.com/f/awesome-chatgpt-prompts\n",
    "- 검색 : financial\n",
    "<pre>\n",
    "Want assistance provided by qualified individuals enabled with experience on understanding charts using technical analysis tools while interpreting macroeconomic environment prevailing across world consequently assisting customers acquire long term advantages requires clear verdicts therefore seeking same through informed predictions written down precisely! First statement contains following content- “Can you tell us what future stock market looks like based upon current conditions ?\".\n",
    "</pre>"
   ]
  },
  {
   "cell_type": "code",
   "execution_count": 6,
   "metadata": {},
   "outputs": [],
   "source": [
    "system_prompt = \"\"\"\n",
    "Want assistance provided by qualified individuals enabled with experience on understanding charts using technical analysis tools while interpreting macroeconomic environment prevailing across world consequently assisting customers acquire long term advantages requires clear verdicts therefore seeking same through informed predictions written down precisely! First statement contains following content- “Can you tell us what future stock market looks like based upon current conditions ?\".\n",
    "\"\"\"\n",
    "user_prompt = \"\"\"\n",
    "    {company}에 주식을 투자해도 될까요? 마크다운 형식의 투자보고서를 한글로 작성해 주세요.\n",
    "    야래의 기본 정보, 재무제표를 참고해 마크다운 형식의 투자 보고서를 한글로 작성해 주세요.\n",
    "\n",
    "    기본정보:\n",
    "    {basic_info}\n",
    "\n",
    "    재무제표:\n",
    "    {finacial_statement}\n",
    "\"\"\""
   ]
  },
  {
   "cell_type": "code",
   "execution_count": 7,
   "metadata": {},
   "outputs": [
    {
     "data": {
      "text/plain": [
       "ChatPromptTemplate(input_variables=['basic_info', 'company', 'finacial_statement'], input_types={}, partial_variables={}, messages=[SystemMessagePromptTemplate(prompt=PromptTemplate(input_variables=[], input_types={}, partial_variables={}, template='\\nWant assistance provided by qualified individuals enabled with experience on understanding charts using technical analysis tools while interpreting macroeconomic environment prevailing across world consequently assisting customers acquire long term advantages requires clear verdicts therefore seeking same through informed predictions written down precisely! First statement contains following content- “Can you tell us what future stock market looks like based upon current conditions ?\".\\n'), additional_kwargs={}), HumanMessagePromptTemplate(prompt=PromptTemplate(input_variables=['basic_info', 'company', 'finacial_statement'], input_types={}, partial_variables={}, template='\\n    {company}에 주식을 투자해도 될까요? 마크다운 형식의 투자보고서를 한글로 작성해 주세요.\\n    야래의 기본 정보, 재무제표를 참고해 마크다운 형식의 투자 보고서를 한글로 작성해 주세요.\\n\\n    기본정보:\\n    {basic_info}\\n\\n    재무제표:\\n    {finacial_statement}\\n'), additional_kwargs={})])"
      ]
     },
     "execution_count": 7,
     "metadata": {},
     "output_type": "execute_result"
    }
   ],
   "source": [
    "prompt = ChatPromptTemplate.from_messages([\n",
    "    (\"system\", system_prompt),\n",
    "    (\"user\", user_prompt)\n",
    "])\n",
    "prompt"
   ]
  },
  {
   "cell_type": "code",
   "execution_count": 8,
   "metadata": {},
   "outputs": [
    {
     "data": {
      "text/plain": [
       "StrOutputParser()"
      ]
     },
     "execution_count": 8,
     "metadata": {},
     "output_type": "execute_result"
    }
   ],
   "source": [
    "output_parser = StrOutputParser()\n",
    "output_parser"
   ]
  },
  {
   "cell_type": "code",
   "execution_count": 10,
   "metadata": {},
   "outputs": [],
   "source": [
    "# chain 구성 : LCEL(LangChain Expression Language)\n",
    "chain = prompt | llm | output_parser\n",
    "\n",
    "# 회사 이름\n",
    "# company = \"MicroSoft\"\n",
    "# symbol = \"MSFT\"  # stock의 symbol 정보\n",
    "\n",
    "company = \"Apple Inc\"\n",
    "symbol = \"AAPL\"\n",
    "# 기본정보 :  basic_info\n",
    "# 재무제표: finacial_statement\n",
    "\n",
    "# stock 정보를 객체로 모듈화해서 불러오기\n",
    "from stock_info import Stock\n",
    "\n",
    "stock = Stock(symbol)\n",
    "req_value = {\n",
    "    \"company\":company,\n",
    "    # 기본정보 :  basic_info\n",
    "    \"basic_info\": stock.get_basic_info(),\n",
    "    # 재무제표: finacial_statement\n",
    "    \"finacial_statement\" : stock.get_financial_statement()\n",
    "            }\n",
    "\n",
    "response = chain.invoke(req_value)"
   ]
  },
  {
   "cell_type": "code",
   "execution_count": 11,
   "metadata": {},
   "outputs": [
    {
     "name": "stdout",
     "output_type": "stream",
     "text": [
      "# Apple Inc. 투자보고서\n",
      "\n",
      "## 기본 정보:\n",
      "- 기업명: Apple Inc.\n",
      "- 시가총액: 3,508,498,071,552\n",
      "- 산업: 소비자 전자제품\n",
      "- 섹터: 기술\n",
      "- 정규직 종업원 수: 161,000명\n",
      "- 현재 주가: $230.76\n",
      "- 기업 가치: 3,548,009,725,952\n",
      "\n",
      "## 재무제표:\n",
      "\n",
      "### 손익계산서\n",
      "| 항목              | 2023년              | 2022년              | 2021년              | 2020년              |\n",
      "|:------------------|:---------------------|:---------------------|:---------------------|:---------------------|\n",
      "| 총 수익           | $383,285,000,000     | $394,328,000,000     | $365,817,000,000     | $274,515,000,000     |\n",
      "| 총 이익           | $169,148,000,000     | $170,782,000,000     | $152,836,000,000     | $104,956,000,000     |\n",
      "| 영업 이익         | $114,301,000,000     | $119,437,000,000     | $108,949,000,000     | $66,288,000,000      |\n",
      "| 순 이익           | $96,995,000,000      | $99,803,000,000      | $94,680,000,000      | $57,411,000,000      |\n",
      "\n",
      "### 대차대조표\n",
      "| 항목                                   | 2023년              | 2022년              | 2021년              | 2020년              |\n",
      "|:--------------------------------------|:---------------------|:---------------------|:---------------------|:---------------------|\n",
      "| 총 자산                               | $352,583,000,000     | $352,755,000,000     | $351,002,000,000     | $323,888,000,000     |\n",
      "| 총 부채 및 소수주의 이익 차감후 잔액 | $290,437,000,000     | $302,083,000,000     | $287,912,000,000     | $258,549,000,000     |\n",
      "| 주주 자본                             | $62,146,000,000      | $50,672,000,000      | $63,090,000,000      | $65,339,000,000      |\n",
      "\n",
      "### 현금 흐름\n",
      "| 항목                  | 2023년              | 2022년              | 2021년              | 2020년              |\n",
      "|:---------------------|:---------------------|:---------------------|:---------------------|:---------------------|\n",
      "| 영업 현금 흐름       | $110,543,000,000     | $122,151,000,000     | $104,038,000,000     | $80,674,000,000      |\n",
      "| 투자 현금 흐름       | $3,705,000,000       | -$22,354,000,000     | -$14,545,000,000     | -$4,289,000,000      |\n",
      "| 재무 현금 흐름       | -$108,488,000,000    | -$110,749,000,000    | -$93,353,000,000     | -$86,820,000,000     |\n",
      "\n",
      "주식 투자에 대한 결정은 개별 투자자의 투자 목표, 위험 선호도 및 재정 상태에 따라 다를 수 있습니다. Apple Inc.의 재무 상태는 안정적으로 보이지만, 주가와 관련된 다양한 요인들을 고려해야 합니다. 전문가의 조언을 구하는 것이 좋을 수 있습니다.\n"
     ]
    }
   ],
   "source": [
    "print(response)"
   ]
  },
  {
   "cell_type": "code",
   "execution_count": null,
   "metadata": {},
   "outputs": [],
   "source": []
  }
 ],
 "metadata": {
  "kernelspec": {
   "display_name": "langchain_rag_env",
   "language": "python",
   "name": "python3"
  },
  "language_info": {
   "codemirror_mode": {
    "name": "ipython",
    "version": 3
   },
   "file_extension": ".py",
   "mimetype": "text/x-python",
   "name": "python",
   "nbconvert_exporter": "python",
   "pygments_lexer": "ipython3",
   "version": "3.12.7"
  }
 },
 "nbformat": 4,
 "nbformat_minor": 2
}
